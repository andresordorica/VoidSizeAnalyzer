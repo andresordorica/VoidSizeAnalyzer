{
 "cells": [
  {
   "cell_type": "markdown",
   "metadata": {},
   "source": [
    "First, let's load a gro file to determine the molecular volume of the polymer matrix.\n"
   ]
  },
  {
   "cell_type": "code",
   "execution_count": 1,
   "metadata": {},
   "outputs": [],
   "source": [
    "import time\n",
    "import pickle \n",
    "from functions import *\n",
    "\n",
    "\n",
    "file_path_gro = os.getcwd() + '/trial_gro/test.gro'\n",
    "res1 = compute_molecular_volumes_from_gro(\n",
    "                    file_path_gro,\n",
    "                    prefix=\"test\",\n",
    "                    n_samples=500_000\n",
    "                )"
   ]
  },
  {
   "cell_type": "markdown",
   "metadata": {},
   "source": [
    "Now let's examine the results"
   ]
  },
  {
   "cell_type": "code",
   "execution_count": 2,
   "metadata": {},
   "outputs": [
    {
     "name": "stdout",
     "output_type": "stream",
     "text": [
      "{'testn_atoms': 10560, 'testaabb_lo_nm': [-2.247, -1.137, -4.6982], 'testaabb_hi_nm': [6.909, 6.695, 4.6160000000000005], 'testaabb_volume_nm3': 667.9193446463998, 'testhit_fraction': 0.08727, 'testunion_volume_nm3': 58.289321207291316, 'testunion_volume_stderr_nm3': 0.26658927305445257, 'testsum_sphere_volumes_nm3': 117.59011461676067, 'testpacking_fraction_vs_naive': 0.4956991614240936, 'testtotal_mass_kg': 1.0982701440542218e-22, 'testbulk_volume_m3': None}\n"
     ]
    }
   ],
   "source": [
    "print(res1)"
   ]
  },
  {
   "cell_type": "markdown",
   "metadata": {},
   "source": [
    "The testuniontestunion_volume_nm3, the volume of the polymer matrix determined by the sum of the spheres taking into account the overlap os spheres -> 58.29 nm^3\n",
    "is ~50% lower than the sum of the total spheres without taking into account overlaps (testsum_sphere_volumes_nm3': 117.59011461676067)\n"
   ]
  }
 ],
 "metadata": {
  "kernelspec": {
   "display_name": "andres",
   "language": "python",
   "name": "python3"
  },
  "language_info": {
   "codemirror_mode": {
    "name": "ipython",
    "version": 3
   },
   "file_extension": ".py",
   "mimetype": "text/x-python",
   "name": "python",
   "nbconvert_exporter": "python",
   "pygments_lexer": "ipython3",
   "version": "3.10.14"
  }
 },
 "nbformat": 4,
 "nbformat_minor": 2
}
